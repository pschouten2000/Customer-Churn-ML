{
 "cells": [
  {
   "cell_type": "markdown",
   "metadata": {},
   "source": [
    "# Report on Customer Churn data"
   ]
  },
  {
   "cell_type": "markdown",
   "metadata": {},
   "source": [
    "## Objectives and data summary\n",
    "For this particular project, I have chosen data from the IBM sample data set collection on Telco customer churn. This data set is interesting as it provides valuable insight into how to predict churn on an individual customer and in return take counter measures (such as special offers or discounts) to keep them from leaving. This is a typical classification problem in the domain of supervised learning and I wanted the chance to have a look at the data mentioned during the lectures. Our model will be therefore be focused on __prediction__."
   ]
  },
  {
   "cell_type": "code",
   "execution_count": 1,
   "metadata": {},
   "outputs": [],
   "source": [
    "#start by importing necessary modules\n",
    "import pandas as pd\n",
    "import numpy as np\n",
    "from matplotlib import pyplot as plt\n",
    "import seaborn as sns\n",
    "%matplotlib inline"
   ]
  },
  {
   "cell_type": "markdown",
   "metadata": {},
   "source": [
    "## Data Exploration"
   ]
  },
  {
   "cell_type": "code",
   "execution_count": 2,
   "metadata": {},
   "outputs": [
    {
     "data": {
      "text/html": [
       "<div>\n",
       "<style scoped>\n",
       "    .dataframe tbody tr th:only-of-type {\n",
       "        vertical-align: middle;\n",
       "    }\n",
       "\n",
       "    .dataframe tbody tr th {\n",
       "        vertical-align: top;\n",
       "    }\n",
       "\n",
       "    .dataframe thead th {\n",
       "        text-align: right;\n",
       "    }\n",
       "</style>\n",
       "<table border=\"1\" class=\"dataframe\">\n",
       "  <thead>\n",
       "    <tr style=\"text-align: right;\">\n",
       "      <th></th>\n",
       "      <th>customerID</th>\n",
       "      <th>gender</th>\n",
       "      <th>SeniorCitizen</th>\n",
       "      <th>Partner</th>\n",
       "      <th>Dependents</th>\n",
       "      <th>tenure</th>\n",
       "      <th>PhoneService</th>\n",
       "      <th>MultipleLines</th>\n",
       "      <th>InternetService</th>\n",
       "      <th>OnlineSecurity</th>\n",
       "      <th>...</th>\n",
       "      <th>DeviceProtection</th>\n",
       "      <th>TechSupport</th>\n",
       "      <th>StreamingTV</th>\n",
       "      <th>StreamingMovies</th>\n",
       "      <th>Contract</th>\n",
       "      <th>PaperlessBilling</th>\n",
       "      <th>PaymentMethod</th>\n",
       "      <th>MonthlyCharges</th>\n",
       "      <th>TotalCharges</th>\n",
       "      <th>Churn</th>\n",
       "    </tr>\n",
       "  </thead>\n",
       "  <tbody>\n",
       "    <tr>\n",
       "      <th>0</th>\n",
       "      <td>7590-VHVEG</td>\n",
       "      <td>Female</td>\n",
       "      <td>0</td>\n",
       "      <td>Yes</td>\n",
       "      <td>No</td>\n",
       "      <td>1</td>\n",
       "      <td>No</td>\n",
       "      <td>No phone service</td>\n",
       "      <td>DSL</td>\n",
       "      <td>No</td>\n",
       "      <td>...</td>\n",
       "      <td>No</td>\n",
       "      <td>No</td>\n",
       "      <td>No</td>\n",
       "      <td>No</td>\n",
       "      <td>Month-to-month</td>\n",
       "      <td>Yes</td>\n",
       "      <td>Electronic check</td>\n",
       "      <td>29.85</td>\n",
       "      <td>29.85</td>\n",
       "      <td>No</td>\n",
       "    </tr>\n",
       "    <tr>\n",
       "      <th>1</th>\n",
       "      <td>5575-GNVDE</td>\n",
       "      <td>Male</td>\n",
       "      <td>0</td>\n",
       "      <td>No</td>\n",
       "      <td>No</td>\n",
       "      <td>34</td>\n",
       "      <td>Yes</td>\n",
       "      <td>No</td>\n",
       "      <td>DSL</td>\n",
       "      <td>Yes</td>\n",
       "      <td>...</td>\n",
       "      <td>Yes</td>\n",
       "      <td>No</td>\n",
       "      <td>No</td>\n",
       "      <td>No</td>\n",
       "      <td>One year</td>\n",
       "      <td>No</td>\n",
       "      <td>Mailed check</td>\n",
       "      <td>56.95</td>\n",
       "      <td>1889.5</td>\n",
       "      <td>No</td>\n",
       "    </tr>\n",
       "    <tr>\n",
       "      <th>2</th>\n",
       "      <td>3668-QPYBK</td>\n",
       "      <td>Male</td>\n",
       "      <td>0</td>\n",
       "      <td>No</td>\n",
       "      <td>No</td>\n",
       "      <td>2</td>\n",
       "      <td>Yes</td>\n",
       "      <td>No</td>\n",
       "      <td>DSL</td>\n",
       "      <td>Yes</td>\n",
       "      <td>...</td>\n",
       "      <td>No</td>\n",
       "      <td>No</td>\n",
       "      <td>No</td>\n",
       "      <td>No</td>\n",
       "      <td>Month-to-month</td>\n",
       "      <td>Yes</td>\n",
       "      <td>Mailed check</td>\n",
       "      <td>53.85</td>\n",
       "      <td>108.15</td>\n",
       "      <td>Yes</td>\n",
       "    </tr>\n",
       "    <tr>\n",
       "      <th>3</th>\n",
       "      <td>7795-CFOCW</td>\n",
       "      <td>Male</td>\n",
       "      <td>0</td>\n",
       "      <td>No</td>\n",
       "      <td>No</td>\n",
       "      <td>45</td>\n",
       "      <td>No</td>\n",
       "      <td>No phone service</td>\n",
       "      <td>DSL</td>\n",
       "      <td>Yes</td>\n",
       "      <td>...</td>\n",
       "      <td>Yes</td>\n",
       "      <td>Yes</td>\n",
       "      <td>No</td>\n",
       "      <td>No</td>\n",
       "      <td>One year</td>\n",
       "      <td>No</td>\n",
       "      <td>Bank transfer (automatic)</td>\n",
       "      <td>42.30</td>\n",
       "      <td>1840.75</td>\n",
       "      <td>No</td>\n",
       "    </tr>\n",
       "    <tr>\n",
       "      <th>4</th>\n",
       "      <td>9237-HQITU</td>\n",
       "      <td>Female</td>\n",
       "      <td>0</td>\n",
       "      <td>No</td>\n",
       "      <td>No</td>\n",
       "      <td>2</td>\n",
       "      <td>Yes</td>\n",
       "      <td>No</td>\n",
       "      <td>Fiber optic</td>\n",
       "      <td>No</td>\n",
       "      <td>...</td>\n",
       "      <td>No</td>\n",
       "      <td>No</td>\n",
       "      <td>No</td>\n",
       "      <td>No</td>\n",
       "      <td>Month-to-month</td>\n",
       "      <td>Yes</td>\n",
       "      <td>Electronic check</td>\n",
       "      <td>70.70</td>\n",
       "      <td>151.65</td>\n",
       "      <td>Yes</td>\n",
       "    </tr>\n",
       "  </tbody>\n",
       "</table>\n",
       "<p>5 rows × 21 columns</p>\n",
       "</div>"
      ],
      "text/plain": [
       "   customerID  gender  SeniorCitizen Partner Dependents  tenure PhoneService  \\\n",
       "0  7590-VHVEG  Female              0     Yes         No       1           No   \n",
       "1  5575-GNVDE    Male              0      No         No      34          Yes   \n",
       "2  3668-QPYBK    Male              0      No         No       2          Yes   \n",
       "3  7795-CFOCW    Male              0      No         No      45           No   \n",
       "4  9237-HQITU  Female              0      No         No       2          Yes   \n",
       "\n",
       "      MultipleLines InternetService OnlineSecurity  ... DeviceProtection  \\\n",
       "0  No phone service             DSL             No  ...               No   \n",
       "1                No             DSL            Yes  ...              Yes   \n",
       "2                No             DSL            Yes  ...               No   \n",
       "3  No phone service             DSL            Yes  ...              Yes   \n",
       "4                No     Fiber optic             No  ...               No   \n",
       "\n",
       "  TechSupport StreamingTV StreamingMovies        Contract PaperlessBilling  \\\n",
       "0          No          No              No  Month-to-month              Yes   \n",
       "1          No          No              No        One year               No   \n",
       "2          No          No              No  Month-to-month              Yes   \n",
       "3         Yes          No              No        One year               No   \n",
       "4          No          No              No  Month-to-month              Yes   \n",
       "\n",
       "               PaymentMethod MonthlyCharges  TotalCharges Churn  \n",
       "0           Electronic check          29.85         29.85    No  \n",
       "1               Mailed check          56.95        1889.5    No  \n",
       "2               Mailed check          53.85        108.15   Yes  \n",
       "3  Bank transfer (automatic)          42.30       1840.75    No  \n",
       "4           Electronic check          70.70        151.65   Yes  \n",
       "\n",
       "[5 rows x 21 columns]"
      ]
     },
     "execution_count": 2,
     "metadata": {},
     "output_type": "execute_result"
    }
   ],
   "source": [
    "df = pd.read_csv('WA_Fn-UseC_-Telco-Customer-Churn.csv') #import data set\n",
    "df.head() #quick look at the structure of the data"
   ]
  },
  {
   "cell_type": "code",
   "execution_count": 3,
   "metadata": {},
   "outputs": [
    {
     "name": "stdout",
     "output_type": "stream",
     "text": [
      "<class 'pandas.core.frame.DataFrame'>\n",
      "RangeIndex: 7043 entries, 0 to 7042\n",
      "Data columns (total 21 columns):\n",
      " #   Column            Non-Null Count  Dtype  \n",
      "---  ------            --------------  -----  \n",
      " 0   customerID        7043 non-null   object \n",
      " 1   gender            7043 non-null   object \n",
      " 2   SeniorCitizen     7043 non-null   int64  \n",
      " 3   Partner           7043 non-null   object \n",
      " 4   Dependents        7043 non-null   object \n",
      " 5   tenure            7043 non-null   int64  \n",
      " 6   PhoneService      7043 non-null   object \n",
      " 7   MultipleLines     7043 non-null   object \n",
      " 8   InternetService   7043 non-null   object \n",
      " 9   OnlineSecurity    7043 non-null   object \n",
      " 10  OnlineBackup      7043 non-null   object \n",
      " 11  DeviceProtection  7043 non-null   object \n",
      " 12  TechSupport       7043 non-null   object \n",
      " 13  StreamingTV       7043 non-null   object \n",
      " 14  StreamingMovies   7043 non-null   object \n",
      " 15  Contract          7043 non-null   object \n",
      " 16  PaperlessBilling  7043 non-null   object \n",
      " 17  PaymentMethod     7043 non-null   object \n",
      " 18  MonthlyCharges    7043 non-null   float64\n",
      " 19  TotalCharges      7043 non-null   object \n",
      " 20  Churn             7043 non-null   object \n",
      "dtypes: float64(1), int64(2), object(18)\n",
      "memory usage: 1.1+ MB\n"
     ]
    }
   ],
   "source": [
    "df.info() #check for missing data"
   ]
  },
  {
   "cell_type": "code",
   "execution_count": 4,
   "metadata": {},
   "outputs": [
    {
     "data": {
      "text/html": [
       "<div>\n",
       "<style scoped>\n",
       "    .dataframe tbody tr th:only-of-type {\n",
       "        vertical-align: middle;\n",
       "    }\n",
       "\n",
       "    .dataframe tbody tr th {\n",
       "        vertical-align: top;\n",
       "    }\n",
       "\n",
       "    .dataframe thead th {\n",
       "        text-align: right;\n",
       "    }\n",
       "</style>\n",
       "<table border=\"1\" class=\"dataframe\">\n",
       "  <thead>\n",
       "    <tr style=\"text-align: right;\">\n",
       "      <th></th>\n",
       "      <th>SeniorCitizen</th>\n",
       "      <th>tenure</th>\n",
       "      <th>MonthlyCharges</th>\n",
       "    </tr>\n",
       "  </thead>\n",
       "  <tbody>\n",
       "    <tr>\n",
       "      <th>count</th>\n",
       "      <td>7043.000000</td>\n",
       "      <td>7043.000000</td>\n",
       "      <td>7043.000000</td>\n",
       "    </tr>\n",
       "    <tr>\n",
       "      <th>mean</th>\n",
       "      <td>0.162147</td>\n",
       "      <td>32.371149</td>\n",
       "      <td>64.761692</td>\n",
       "    </tr>\n",
       "    <tr>\n",
       "      <th>std</th>\n",
       "      <td>0.368612</td>\n",
       "      <td>24.559481</td>\n",
       "      <td>30.090047</td>\n",
       "    </tr>\n",
       "    <tr>\n",
       "      <th>min</th>\n",
       "      <td>0.000000</td>\n",
       "      <td>0.000000</td>\n",
       "      <td>18.250000</td>\n",
       "    </tr>\n",
       "    <tr>\n",
       "      <th>25%</th>\n",
       "      <td>0.000000</td>\n",
       "      <td>9.000000</td>\n",
       "      <td>35.500000</td>\n",
       "    </tr>\n",
       "    <tr>\n",
       "      <th>50%</th>\n",
       "      <td>0.000000</td>\n",
       "      <td>29.000000</td>\n",
       "      <td>70.350000</td>\n",
       "    </tr>\n",
       "    <tr>\n",
       "      <th>75%</th>\n",
       "      <td>0.000000</td>\n",
       "      <td>55.000000</td>\n",
       "      <td>89.850000</td>\n",
       "    </tr>\n",
       "    <tr>\n",
       "      <th>max</th>\n",
       "      <td>1.000000</td>\n",
       "      <td>72.000000</td>\n",
       "      <td>118.750000</td>\n",
       "    </tr>\n",
       "  </tbody>\n",
       "</table>\n",
       "</div>"
      ],
      "text/plain": [
       "       SeniorCitizen       tenure  MonthlyCharges\n",
       "count    7043.000000  7043.000000     7043.000000\n",
       "mean        0.162147    32.371149       64.761692\n",
       "std         0.368612    24.559481       30.090047\n",
       "min         0.000000     0.000000       18.250000\n",
       "25%         0.000000     9.000000       35.500000\n",
       "50%         0.000000    29.000000       70.350000\n",
       "75%         0.000000    55.000000       89.850000\n",
       "max         1.000000    72.000000      118.750000"
      ]
     },
     "execution_count": 4,
     "metadata": {},
     "output_type": "execute_result"
    }
   ],
   "source": [
    "df.describe() #getting statistical information for the numerical features"
   ]
  },
  {
   "cell_type": "markdown",
   "metadata": {},
   "source": [
    "Next we want to check the unique values each feature can take on"
   ]
  },
  {
   "cell_type": "code",
   "execution_count": 5,
   "metadata": {},
   "outputs": [
    {
     "name": "stdout",
     "output_type": "stream",
     "text": [
      "5986-WWXDV    1\n",
      "2826-DXLQO    1\n",
      "6424-ELEYH    1\n",
      "9052-VKDUW    1\n",
      "2144-BFDSO    1\n",
      "             ..\n",
      "2509-TFPJU    1\n",
      "9554-DFKIC    1\n",
      "9367-OIUXP    1\n",
      "2911-WDXMV    1\n",
      "2692-AQCPF    1\n",
      "Name: customerID, Length: 7043, dtype: int64\n",
      "Male      3555\n",
      "Female    3488\n",
      "Name: gender, dtype: int64\n",
      "0    5901\n",
      "1    1142\n",
      "Name: SeniorCitizen, dtype: int64\n",
      "No     3641\n",
      "Yes    3402\n",
      "Name: Partner, dtype: int64\n",
      "No     4933\n",
      "Yes    2110\n",
      "Name: Dependents, dtype: int64\n",
      "1     613\n",
      "72    362\n",
      "2     238\n",
      "3     200\n",
      "4     176\n",
      "     ... \n",
      "28     57\n",
      "39     56\n",
      "44     51\n",
      "36     50\n",
      "0      11\n",
      "Name: tenure, Length: 73, dtype: int64\n",
      "Yes    6361\n",
      "No      682\n",
      "Name: PhoneService, dtype: int64\n",
      "No                  3390\n",
      "Yes                 2971\n",
      "No phone service     682\n",
      "Name: MultipleLines, dtype: int64\n",
      "Fiber optic    3096\n",
      "DSL            2421\n",
      "No             1526\n",
      "Name: InternetService, dtype: int64\n",
      "No                     3498\n",
      "Yes                    2019\n",
      "No internet service    1526\n",
      "Name: OnlineSecurity, dtype: int64\n",
      "No                     3088\n",
      "Yes                    2429\n",
      "No internet service    1526\n",
      "Name: OnlineBackup, dtype: int64\n",
      "No                     3095\n",
      "Yes                    2422\n",
      "No internet service    1526\n",
      "Name: DeviceProtection, dtype: int64\n",
      "No                     3473\n",
      "Yes                    2044\n",
      "No internet service    1526\n",
      "Name: TechSupport, dtype: int64\n",
      "No                     2810\n",
      "Yes                    2707\n",
      "No internet service    1526\n",
      "Name: StreamingTV, dtype: int64\n",
      "No                     2785\n",
      "Yes                    2732\n",
      "No internet service    1526\n",
      "Name: StreamingMovies, dtype: int64\n",
      "Month-to-month    3875\n",
      "Two year          1695\n",
      "One year          1473\n",
      "Name: Contract, dtype: int64\n",
      "Yes    4171\n",
      "No     2872\n",
      "Name: PaperlessBilling, dtype: int64\n",
      "Electronic check             2365\n",
      "Mailed check                 1612\n",
      "Bank transfer (automatic)    1544\n",
      "Credit card (automatic)      1522\n",
      "Name: PaymentMethod, dtype: int64\n",
      "20.05     61\n",
      "19.85     45\n",
      "19.95     44\n",
      "19.90     44\n",
      "20.00     43\n",
      "          ..\n",
      "114.75     1\n",
      "103.60     1\n",
      "113.40     1\n",
      "57.65      1\n",
      "113.30     1\n",
      "Name: MonthlyCharges, Length: 1585, dtype: int64\n",
      "           11\n",
      "20.2       11\n",
      "19.75       9\n",
      "19.9        8\n",
      "20.05       8\n",
      "           ..\n",
      "1120.3      1\n",
      "5083.55     1\n",
      "2434.45     1\n",
      "1032.05     1\n",
      "1424.5      1\n",
      "Name: TotalCharges, Length: 6531, dtype: int64\n",
      "No     5174\n",
      "Yes    1869\n",
      "Name: Churn, dtype: int64\n"
     ]
    }
   ],
   "source": [
    "#looping through the columns to see their unique values\n",
    "for i in df.columns:\n",
    "    print(df[i].value_counts())"
   ]
  },
  {
   "cell_type": "markdown",
   "metadata": {},
   "source": [
    "After looking into the columns and their unique values, the features can be clustered into different categories:\n",
    "\n",
    "### Classification labels\n",
    "Churn: Whether or not the customer churned (Yes or No)\n",
    "\n",
    "### Customer services booked\n",
    "PhoneService: Whether or not the customer has a phone service (Yes or No)\n",
    "\n",
    "MultipleLines: Whether or not the customer has multiple lines (Yes, No, No Phone Service)\n",
    "\n",
    "InternetService: Customer's internet provider (DSL, Fiber optic, No)\n",
    "\n",
    "OnlineSecurtiy: Whether or not the customer has online security (Yes, No, No internet service)\n",
    "\n",
    "OnlineBackup: Whether or not the customer has online backup (Yes, No, No internet service)\n",
    "\n",
    "DeviceProtection: Whether the customer has device protection (Yes, No, No internet service)\n",
    "\n",
    "TechSupport: Whether the customer has tech support (Yes, No, No internet service)\n",
    "\n",
    "StreamingTV: Whether the customer has streaming TV (Yes, No, No internet service)\n",
    "\n",
    "StreamingMovies: Whether the customer has streaming movies (Yes, No, No internet service)\n",
    "\n",
    "### Customer account information\n",
    "Tenure: Number of months the customer has stayed with the company\n",
    "\n",
    "Contract: The contract term of the customer (Month-to-month, One year, Two year)\n",
    "\n",
    "PaperlessBilling: Whether the customer has paperless billing (Yes, No)\n",
    "\n",
    "PaymentMethod: The customer’s payment method (Electronic check, Mailed check, Bank transfer (automatic), Credit card (automatic))\n",
    "\n",
    "MonthlyCharges: The amount charged to the customer monthly\n",
    "\n",
    "TotalCharges: The total amount charged to the customer\n",
    "\n",
    "### Customer demographic info\n",
    "customerID: Customer ID\n",
    "\n",
    "Gender: Whether the customer is a male or a female\n",
    "\n",
    "SeniorCitizen: Whether the customer is a senior citizen or not (1, 0)\n",
    "\n",
    "Partner: Whether the customer has a partner or not (Yes, No)\n",
    "\n",
    "Dependents: Whether the customer has dependents or not (Yes, No)"
   ]
  },
  {
   "cell_type": "markdown",
   "metadata": {},
   "source": [
    "## Data preprocessing/cleaning"
   ]
  },
  {
   "cell_type": "markdown",
   "metadata": {},
   "source": [
    "The tenure and TotalCharges features need their data types to be changed to float:"
   ]
  },
  {
   "cell_type": "code",
   "execution_count": 6,
   "metadata": {},
   "outputs": [],
   "source": [
    "def feature_to_float(feature_list, df):\n",
    "    for i in feature_list:\n",
    "        df[i] = df[i].astype(float)\n",
    "    return df\n",
    "\n",
    "feature_to_float(['tenure'],df)\n",
    "\n",
    "#TotalCharges is trickier to change\n",
    "df.TotalCharges = pd.to_numeric(df.TotalCharges, errors = 'coerce')"
   ]
  },
  {
   "cell_type": "markdown",
   "metadata": {},
   "source": [
    "Now we can check all the data types of the features are correct:"
   ]
  },
  {
   "cell_type": "code",
   "execution_count": 7,
   "metadata": {},
   "outputs": [
    {
     "data": {
      "text/plain": [
       "customerID           object\n",
       "gender               object\n",
       "SeniorCitizen         int64\n",
       "Partner              object\n",
       "Dependents           object\n",
       "tenure              float64\n",
       "PhoneService         object\n",
       "MultipleLines        object\n",
       "InternetService      object\n",
       "OnlineSecurity       object\n",
       "OnlineBackup         object\n",
       "DeviceProtection     object\n",
       "TechSupport          object\n",
       "StreamingTV          object\n",
       "StreamingMovies      object\n",
       "Contract             object\n",
       "PaperlessBilling     object\n",
       "PaymentMethod        object\n",
       "MonthlyCharges      float64\n",
       "TotalCharges        float64\n",
       "Churn                object\n",
       "dtype: object"
      ]
     },
     "execution_count": 7,
     "metadata": {},
     "output_type": "execute_result"
    }
   ],
   "source": [
    "df.dtypes"
   ]
  },
  {
   "cell_type": "markdown",
   "metadata": {},
   "source": [
    "And that there are no missing values:"
   ]
  },
  {
   "cell_type": "code",
   "execution_count": 8,
   "metadata": {},
   "outputs": [
    {
     "data": {
      "text/plain": [
       "customerID           0\n",
       "gender               0\n",
       "SeniorCitizen        0\n",
       "Partner              0\n",
       "Dependents           0\n",
       "tenure               0\n",
       "PhoneService         0\n",
       "MultipleLines        0\n",
       "InternetService      0\n",
       "OnlineSecurity       0\n",
       "OnlineBackup         0\n",
       "DeviceProtection     0\n",
       "TechSupport          0\n",
       "StreamingTV          0\n",
       "StreamingMovies      0\n",
       "Contract             0\n",
       "PaperlessBilling     0\n",
       "PaymentMethod        0\n",
       "MonthlyCharges       0\n",
       "TotalCharges        11\n",
       "Churn                0\n",
       "dtype: int64"
      ]
     },
     "execution_count": 8,
     "metadata": {},
     "output_type": "execute_result"
    }
   ],
   "source": [
    "df.isna().sum()"
   ]
  },
  {
   "cell_type": "markdown",
   "metadata": {},
   "source": [
    "TotalCharges has 11 missing values so the relevant rows are deleted for simplicity:"
   ]
  },
  {
   "cell_type": "code",
   "execution_count": 9,
   "metadata": {},
   "outputs": [
    {
     "data": {
      "text/plain": [
       "customerID           object\n",
       "gender               object\n",
       "SeniorCitizen         int64\n",
       "Partner              object\n",
       "Dependents           object\n",
       "tenure              float64\n",
       "PhoneService         object\n",
       "MultipleLines        object\n",
       "InternetService      object\n",
       "OnlineSecurity       object\n",
       "OnlineBackup         object\n",
       "DeviceProtection     object\n",
       "TechSupport          object\n",
       "StreamingTV          object\n",
       "StreamingMovies      object\n",
       "Contract             object\n",
       "PaperlessBilling     object\n",
       "PaymentMethod        object\n",
       "MonthlyCharges      float64\n",
       "Churn                object\n",
       "dtype: object"
      ]
     },
     "execution_count": 9,
     "metadata": {},
     "output_type": "execute_result"
    }
   ],
   "source": [
    "df = df.drop('TotalCharges', 1)\n",
    "\n",
    "df.dtypes"
   ]
  },
  {
   "cell_type": "markdown",
   "metadata": {},
   "source": [
    "## Preliminary Findings and Insights"
   ]
  },
  {
   "cell_type": "code",
   "execution_count": 10,
   "metadata": {},
   "outputs": [
    {
     "data": {
      "image/png": "[encoded data removed]",
      "text/plain": [
       "<Figure size 360x360 with 1 Axes>"
      ]
     },
     "metadata": {
      "needs_background": "light"
     },
     "output_type": "display_data"
    }
   ],
   "source": [
    "#display a frequency distribution for churn\n",
    "plt.figure(figsize=(5,5))\n",
    "ax = sns.countplot(x=df['Churn'],linewidth=1)\n",
    "plt.show()"
   ]
  },
  {
   "cell_type": "markdown",
   "metadata": {},
   "source": [
    "This plot shows a class imbalance of churners and non-churners data. Resampling would be the most suitable approach, but in this case, the imbalance is kept."
   ]
  },
  {
   "cell_type": "code",
   "execution_count": 11,
   "metadata": {},
   "outputs": [
    {
     "data": {
      "image/png": "[encoded data removed]",
      "text/plain": [
       "<Figure size 1008x504 with 2 Axes>"
      ]
     },
     "metadata": {
      "needs_background": "light"
     },
     "output_type": "display_data"
    }
   ],
   "source": [
    "#generating boxplots\n",
    "plots={1: [111], 2: [121,122], 3: [131,132,133],4:[221,222,223,224],5:[231,232,233,234,235],\n",
    "6:[231,232,233,234,235,236]}\n",
    "\n",
    "def boxplot(x,y,df):\n",
    "    rows = int(str(plots[len(y)][0])[0])\n",
    "    columns = int(str(plots[len(y)][0])[1])\n",
    "    plt.figure(figsize=(7*columns,7*rows))\n",
    "    \n",
    "    for i, j in enumerate(y):\n",
    "        plt.subplot(plots[len(y)][i])\n",
    "        ax = sns.boxplot(x=x, y=j,data=df[[x,j]],linewidth=1)\n",
    "        ax.set_title(j)\n",
    "        \n",
    "    return plt.show()\n",
    "\n",
    "#boxplots for tenure and MonthlyCharges\n",
    "boxplot(\"Churn\", [\"tenure\",\"MonthlyCharges\"],df)"
   ]
  },
  {
   "cell_type": "markdown",
   "metadata": {},
   "source": [
    "Churning customers have much lower tenure with a median of ca. 10 months compared to a median of non-churners of ca. 38 months.\n",
    "\n",
    "Churning customers have higher monthly charges with a median of ca. 80 USD and much lower interquartile range compared to that of non-churners (median of ca. 65 USD).\n",
    "\n",
    "TotalCharges are the result of tenure and MonthlyCharges, which are more insightful on an individual basis."
   ]
  },
  {
   "cell_type": "markdown",
   "metadata": {},
   "source": [
    "## Feature Engineering\n",
    "\n",
    "For machine readibility and further analysis:\n",
    "\n",
    "### Columns removed\n",
    "customerID: not relevant\n",
    "\n",
    "### No action\n",
    "SeniorCitizen\n",
    "\n",
    "### Label encoding\n",
    "These features can only take one of 2 values (yes or no) so are transformed to binary integers:\n",
    "\n",
    "gender\n",
    "\n",
    "Partner\n",
    "\n",
    "Dependents\n",
    "\n",
    "Churn\n",
    "\n",
    "PhoneService\n",
    "\n",
    "PaperlessBilling\n",
    "\n",
    "### One-Hot Encoding\n",
    "These features are also categorical but take on more than 2 values. For each value, a new variable is created with a binary integer indicating if the value occured in a data entry or not (1 or 0)\n",
    "\n",
    "MultipleLines\n",
    "\n",
    "InternetService\n",
    "\n",
    "OnlineSecurity\n",
    "\n",
    "OnlineBackup\n",
    "\n",
    "DeviceProtection\n",
    "\n",
    "TechSupport\n",
    "\n",
    "StreamingTV\n",
    "\n",
    "StreamingMovies\n",
    "\n",
    "Contract\n",
    "\n",
    "PaymentMethod\n",
    "\n",
    "### Min-Max Scaling\n",
    "Values of numerical features are rescaled between a range of 0 and 1. Min-max scaler is the standard approach for scaling. For normally distributed features standard scaler could be used, which scales values around a mean of 0 and a standard deviation of 1. For simplicity we use min-max scaler for all numerical features.\n",
    "\n",
    "tenure\n",
    "\n",
    "TotalCharges\n",
    "\n",
    "MonthlyCharges"
   ]
  },
  {
   "cell_type": "code",
   "execution_count": 12,
   "metadata": {},
   "outputs": [],
   "source": [
    "#drop customerID feature\n",
    "df = df.drop(columns = 'customerID')\n",
    "\n",
    "#label encoding\n",
    "def label_encoding(features, df):\n",
    "    for i in features:\n",
    "        df[i] = df[i].map({'Yes': 1, 'No': 0})\n",
    "    return\n",
    "label_encoding(['Partner', 'Dependents', 'Churn', 'PhoneService', 'PaperlessBilling'], df)\n",
    "\n",
    "#gender doesn't take yes or no\n",
    "df['gender'] = df['gender'].map({'Female':1, 'Male':0})\n",
    "\n",
    "#one-hot encoding\n",
    "features_ohe = ['MultipleLines','InternetService','OnlineSecurity','OnlineBackup',\n",
    "'DeviceProtection','TechSupport','StreamingTV','StreamingMovies','Contract',\n",
    "'PaymentMethod']\n",
    "df = pd.get_dummies(df, columns=features_ohe)\n",
    "\n",
    "#min-max scaling\n",
    "from sklearn.preprocessing import MinMaxScaler\n",
    "features_mms = ['tenure', 'MonthlyCharges']\n",
    "df_features_mms = pd.DataFrame(df,columns=features_mms)\n",
    "df_remaining_features = df.drop(columns=features_mms)\n",
    "mms = MinMaxScaler()\n",
    "rescaled_features = mms.fit_transform(df_features_mms)\n",
    "df_rescaled_features = pd.DataFrame(rescaled_features,columns=features_mms,\n",
    "index=df_remaining_features.index)\n",
    "df = pd.concat([df_remaining_features,df_rescaled_features],axis=1)"
   ]
  },
  {
   "cell_type": "markdown",
   "metadata": {},
   "source": [
    "## Hypothesis Building\n",
    "\n",
    "1. The longer the contract duration the less likely it is that the customer will churn as he/she is less frequently confronted with the termination/prolongation decision and potentially values contracts with reduced effort.\n",
    "\n",
    "\n",
    "2. Customers with spouses and children might churn less to keep the services running for their family.\n",
    "\n",
    "\n",
    "3. More expensive contracts lead to increased churn as the chances to save money by changing providers might be higher.\n",
    "\n",
    "\n",
    "4. Tenure, contract duration terms and number of additional services are assumed to be among the most important drivers of churn."
   ]
  },
  {
   "cell_type": "markdown",
   "metadata": {},
   "source": [
    "Our hypothesis regarding tenure being the strongest factor for not churning can already be supported by the boxplot from the Key Findings and Insights section. As previously stated: Churning customers have much lower tenure with a median of ca. 10 months compared to a median of non-churners of ca. 38 months. "
   ]
  },
  {
   "cell_type": "markdown",
   "metadata": {},
   "source": [
    "## Train-Test Split\n",
    "\n",
    "To begin model training, the data set must be split into 80% training data and 20% test data. The 'Churn' column is defined as the class (y) and the remaining columns are the features (x)."
   ]
  },
  {
   "cell_type": "code",
   "execution_count": 13,
   "metadata": {},
   "outputs": [],
   "source": [
    "## we apply sklearn's splitter function\n",
    "from sklearn.model_selection import train_test_split\n",
    "\n",
    "X1 = df.drop('Churn', axis=1)\n",
    "X = X1.values\n",
    "y = df['Churn'].values\n",
    "\n",
    "X_train, X_test, y_train, y_test = train_test_split(X,y,test_size=0.2,\n",
    "                                                   random_state=42)"
   ]
  },
  {
   "cell_type": "markdown",
   "metadata": {},
   "source": [
    "## Model Training: Logistic Regression\n",
    "Customer churn is an example of categorical data rather than continuous data so we must use a variation of linear regression: __Logistic Regression__"
   ]
  },
  {
   "cell_type": "code",
   "execution_count": 14,
   "metadata": {},
   "outputs": [],
   "source": [
    "from sklearn.linear_model import LogisticRegression\n",
    "\n",
    "# Instanciate and train the model on the training dataset\n",
    "logreg = LogisticRegression(max_iter=1000)\n",
    "logreg.fit(X_train, y_train)\n",
    "\n",
    "# Now make predictions using the trained model on the test dataset\n",
    "y_pred_logreg = logreg.predict(X_test)\n",
    "y_pred_logreg_prob = logreg.predict_proba(X_test)"
   ]
  },
  {
   "cell_type": "markdown",
   "metadata": {},
   "source": [
    "In order to evaluate the performance of this model, there are 2 main metrics we will use: __Feature Weights__ and __Accuracy Score__\n",
    "\n",
    "The feature weights indicate the top features used by the model to generate predictions while the accuracy score will give us the overall accuracy of the model for the training set and test set. "
   ]
  },
  {
   "cell_type": "code",
   "execution_count": 15,
   "metadata": {},
   "outputs": [
    {
     "name": "stdout",
     "output_type": "stream",
     "text": [
      "\n",
      "Accuracy Score Test: 0.8204400283889283\n",
      "Accuracy Score Train: 0.8003194888178914 (as comparison)\n"
     ]
    },
    {
     "data": {
      "image/png": "[encoded data removed]",
      "text/plain": [
       "<Figure size 504x432 with 1 Axes>"
      ]
     },
     "metadata": {
      "needs_background": "light"
     },
     "output_type": "display_data"
    },
    {
     "data": {
      "image/png": "[encoded data removed]",
      "text/plain": [
       "<Figure size 504x432 with 1 Axes>"
      ]
     },
     "metadata": {
      "needs_background": "light"
     },
     "output_type": "display_data"
    }
   ],
   "source": [
    "from sklearn.metrics import accuracy_score\n",
    "\n",
    "## define a function that can plot the feature weights for our model\n",
    "def feature_weights(X_df, classifier, classifier_name):\n",
    "    weights = pd.Series(classifier.coef_[0],index=X_df.columns.values).sort_values(ascending=False)\n",
    "    \n",
    "    top_weights_selected = weights[:10]\n",
    "    plt.figure(figsize=(7,6))\n",
    "    plt.tick_params(labelsize=10)\n",
    "    plt.title(f'{classifier_name} - Top 10 Features')\n",
    "    top_weights_selected.plot(kind='bar')\n",
    "    \n",
    "    bottom_weights_selected = weights[-10:]\n",
    "    plt.figure(figsize=(7,6))\n",
    "    plt.tick_params(labelsize=10)\n",
    "    plt.title(f'{classifier_name} - Bottom 10 Features')\n",
    "    bottom_weights_selected.plot(kind='bar')\n",
    "    \n",
    "    return print(\"\")\n",
    "\n",
    "feature_weights(X1,logreg,'Log. Regression')\n",
    "print(f'Accuracy Score Test: {accuracy_score(y_test, y_pred_logreg)}')\n",
    "print(f'Accuracy Score Train: {logreg.score(X_train,  y_train)} (as comparison)')"
   ]
  },
  {
   "cell_type": "markdown",
   "metadata": {},
   "source": [
    "## Model Assessment"
   ]
  },
  {
   "cell_type": "markdown",
   "metadata": {},
   "source": [
    "For Logistic Regression GridSearchCV is used to determine the best model while applying different values of L1 or L2 regularization to turn the impact of non-meaningful feature to zero (L1) or to simplify the model by relativizing strong patterns that are picked up during training (L2)."
   ]
  },
  {
   "cell_type": "code",
   "execution_count": 16,
   "metadata": {},
   "outputs": [
    {
     "name": "stdout",
     "output_type": "stream",
     "text": [
      "Logistic Regression - Best Parameters:  {'C': 0.30000000000000004, 'penalty': 'l1'}\n",
      "Accuracy Score Test: 0.8218594748048261\n",
      "Accuracy Score Train: 0.8003194888178914 (as comparison)\n"
     ]
    }
   ],
   "source": [
    "from sklearn.model_selection import GridSearchCV\n",
    "\n",
    "# define parameter grid for GridSearch and instanciate and train model\n",
    "param_grid_L1 = {'penalty':['l1','l2'],'C':np.arange(.1,5,.1)}\n",
    "logreg_tuned = LogisticRegression(solver='saga', max_iter=1000)\n",
    "logreg_tuned_gs = GridSearchCV(logreg_tuned,param_grid_L1,cv=5)\n",
    "logreg_tuned_gs.fit(X_train,y_train)\n",
    "\n",
    "# make predictions using the trained model on test dataset\n",
    "y_pred_logreg_tuned = logreg_tuned_gs.predict(X_test)\n",
    "y_pred_logreg_tuned_prob = logreg_tuned_gs.predict_proba(X_test)\n",
    "\n",
    "print('Logistic Regression - Best Parameters: ', logreg_tuned_gs.best_params_)\n",
    "\n",
    "print(f'Accuracy Score Test: {accuracy_score(y_test, y_pred_logreg_tuned)}')\n",
    "print(f'Accuracy Score Train: {logreg_tuned_gs.score(X_train,  y_train)} (as comparison)')"
   ]
  },
  {
   "cell_type": "markdown",
   "metadata": {},
   "source": [
    "## Model Training: K Nearest Neighbours\n",
    "Logistic regression is a fast and linear model but we can also try a K Nearest Neighbours model which is simpler."
   ]
  },
  {
   "cell_type": "code",
   "execution_count": 17,
   "metadata": {},
   "outputs": [
    {
     "name": "stdout",
     "output_type": "stream",
     "text": [
      "Accuracy Score Test: 0.7665010645848119\n",
      "Accuracy Score Train: 0.8367057152999645 (as comparison)\n"
     ]
    }
   ],
   "source": [
    "from sklearn.neighbors import KNeighborsClassifier\n",
    "\n",
    "#instanciate and train the model\n",
    "knn = KNeighborsClassifier()\n",
    "knn.fit(X_train,y_train)\n",
    "\n",
    "#make predictions\n",
    "y_pred_knn = knn.predict(X_test)\n",
    "y_pred_knn_prob = knn.predict_proba(X_test)\n",
    "\n",
    "#model evaluation\n",
    "print(f'Accuracy Score Test: {accuracy_score(y_test, y_pred_knn)}')\n",
    "print(f'Accuracy Score Train: {knn.score(X_train,  y_train)} (as comparison)')"
   ]
  },
  {
   "cell_type": "markdown",
   "metadata": {},
   "source": [
    "## Model Assessment\n",
    "Once again we can use GridSearchCV to optimise model performance by getting the optimal number of neighbours"
   ]
  },
  {
   "cell_type": "code",
   "execution_count": 18,
   "metadata": {},
   "outputs": [
    {
     "name": "stdout",
     "output_type": "stream",
     "text": [
      "KNN best number of neighbours: {'n_neighbors': 22} \n",
      "\n",
      "Accuracy Score Test: 0.7927608232789212\n",
      "Accuracy Score Train: 0.8017394391196309 (as comparison)\n"
     ]
    }
   ],
   "source": [
    "# define parameter grid for GridSearch and instanciate and train model\n",
    "param_grid = {'n_neighbors': np.arange(1,30)}\n",
    "knn = KNeighborsClassifier()\n",
    "knn_cv = GridSearchCV(knn,param_grid,cv=5)\n",
    "knn_cv.fit(X_train,y_train)\n",
    "\n",
    "#make predictions\n",
    "y_pred_knn_tuned = knn_cv.predict(X_test)\n",
    "y_pred_knn_tuned_prob = knn_cv.predict_proba(X_test)\n",
    "\n",
    "print('KNN best number of neighbours:',knn_cv.best_params_,'\\n')\n",
    "\n",
    "#model evaluation\n",
    "print(f'Accuracy Score Test: {accuracy_score(y_test, y_pred_knn_tuned)}')\n",
    "print(f'Accuracy Score Train: {knn_cv.score(X_train,  y_train)} (as comparison)')"
   ]
  },
  {
   "cell_type": "markdown",
   "metadata": {},
   "source": [
    "## Model Training: RandomForest\n",
    "We can also try an ensemble model."
   ]
  },
  {
   "cell_type": "code",
   "execution_count": 19,
   "metadata": {},
   "outputs": [
    {
     "name": "stdout",
     "output_type": "stream",
     "text": [
      "Accuracy Score Test: 0.78708303761533\n",
      "Accuracy Score Train: 0.9982250621228257 (as comparison)\n"
     ]
    }
   ],
   "source": [
    "from sklearn.ensemble import RandomForestClassifier\n",
    "\n",
    "#instanciate and train the random forest model\n",
    "rf = RandomForestClassifier()\n",
    "rf.fit(X_train, y_train)\n",
    "\n",
    "#make predictions\n",
    "y_pred_rf = rf.predict(X_test)\n",
    "y_pred_rf_prob = rf.predict_proba(X_test)\n",
    "\n",
    "#model evaluation\n",
    "print(f'Accuracy Score Test: {accuracy_score(y_test, y_pred_rf)}')\n",
    "print(f'Accuracy Score Train: {rf.score(X_train,  y_train)} (as comparison)')"
   ]
  },
  {
   "cell_type": "markdown",
   "metadata": {},
   "source": [
    "## Model Assessment\n",
    "This time we use RandomSearchCV to optimise for several hyperparameters"
   ]
  },
  {
   "cell_type": "code",
   "execution_count": 20,
   "metadata": {},
   "outputs": [
    {
     "name": "stdout",
     "output_type": "stream",
     "text": [
      "Random Forest - Best Parameters: {'n_estimators': 940, 'max_features': 'auto', 'max_depth': 10, 'criterion': 'entropy', 'bootstrap': True}\n",
      "Accuracy Score Test: 0.8097941802696949\n",
      "Accuracy Score Train: 0.8610223642172524 (as comparison)\n"
     ]
    }
   ],
   "source": [
    "from sklearn.model_selection import RandomizedSearchCV\n",
    "\n",
    "#define parameter grid for RandomizedSearch and instanciate and train model\n",
    "param_grid_rf = {'n_estimators': np.arange(10,2000,10),\n",
    "                'max_features':['auto','sqrt'],\n",
    "                'max_depth':np.arange(10,200,10),\n",
    "                'criterion':['gini','entropy'],\n",
    "                'bootstrap':[True, False]}\n",
    "\n",
    "rf = RandomForestClassifier()\n",
    "rf_random_grid = RandomizedSearchCV(estimator=rf,param_distributions=param_grid_rf,cv=5,verbose =0)\n",
    "rf_random_grid.fit(X_train,y_train)\n",
    "\n",
    "#make predictions\n",
    "y_pred_rf_tuned = rf_random_grid.predict(X_test)\n",
    "y_pred_rf_tuned_prob = rf_random_grid.predict_proba(X_test)\n",
    "\n",
    "print('Random Forest - Best Parameters:', rf_random_grid.best_params_)\n",
    "\n",
    "#model evaluation\n",
    "print(f'Accuracy Score Test: {accuracy_score(y_test, y_pred_rf_tuned)}')\n",
    "print(f'Accuracy Score Train: {rf_random_grid.score(X_train,  y_train)} (as comparison)')\n"
   ]
  },
  {
   "cell_type": "markdown",
   "metadata": {},
   "source": [
    "## Best Model\n",
    "We can see that the best Test score is achieved with the logistic regression model (82%). The random forest model is overfitting as the train score (86%) is much higher than the test score (80%)."
   ]
  },
  {
   "cell_type": "markdown",
   "metadata": {},
   "source": [
    "## Key Findings and Insights\n",
    "Looking at our model results, we achieved an accuracy on the test set of 82% which is reasonably strong.\n",
    "\n",
    "The hypotheses we built can now be supported or refused thanks to the evaluation results, specifically the feature weights:\n",
    "\n",
    "__Contract Duration__: Contract duration month-to-month is the largest driver of churn -> this is supported \n",
    "\n",
    "__Partners and Children__: This feature did not rank very highly in drivers of not churning -> partially supported\n",
    "\n",
    "__Tenure__: High tenure ranks as the strongest factor for not churning and is the strongest feature overall -> supported. Also supported by the boxplot in the Data Exploration step."
   ]
  },
  {
   "cell_type": "markdown",
   "metadata": {},
   "source": [
    "## Conclusion and Next Steps\n",
    "In summary, the only real issue with the data collected is the imbalance of data regarding churned customers and non-churned customers as shown previously in a histogram. Aside from minor data cleaning due to a few missing values, the data set is of good quality. Additionally, a check for outliers was carried out (IQR method) and none were detected. So the only request to be made is for resampling of churned and non-churned customers."
   ]
  }
 ],
 "metadata": {
  "kernelspec": {
   "display_name": "Python 3",
   "language": "python",
   "name": "python3"
  },
  "language_info": {
   "codemirror_mode": {
    "name": "ipython",
    "version": 3
   },
   "file_extension": ".py",
   "mimetype": "text/x-python",
   "name": "python",
   "nbconvert_exporter": "python",
   "pygments_lexer": "ipython3",
   "version": "3.8.3"
  }
 },
 "nbformat": 4,
 "nbformat_minor": 4
}
